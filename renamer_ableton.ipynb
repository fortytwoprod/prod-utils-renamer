{
 "cells": [
  {
   "cell_type": "markdown",
   "metadata": {},
   "source": [
    "# Producer utilities: Ableton stems renamer"
   ]
  },
  {
   "cell_type": "code",
   "execution_count": 25,
   "metadata": {},
   "outputs": [],
   "source": [
    "import os\n",
    "import re\n",
    "\n",
    "\n",
    "def clean_file_name(file_name: str) -> str:\n",
    "    \"\"\"\n",
    "    Remove the prefix and numbers leading the file name of an Ableton stem export.\n",
    "    \n",
    "    Args:\n",
    "        filename (str): The original filename to be cleaned.\n",
    "    \n",
    "    Returns:\n",
    "        str: The cleaned filename.\n",
    "    \"\"\"\n",
    "    # Remove the prefix \"A \" if it exists\n",
    "    cleaned = re.sub(r'^A\\s+', '', file_name)\n",
    "    # Remove any numbers at the start of the filename\n",
    "    cleaned = re.sub(r'^\\d+', '', cleaned)\n",
    "    # Remove any leading symbols like \"-\", \"_\" or whitespace\n",
    "    cleaned = re.sub(r'^[-_ \\s]+', '', cleaned)\n",
    "\n",
    "    return cleaned\n",
    "\n",
    "\n",
    "def rename_files_in_folder(folder_path: str) -> None:\n",
    "    \"\"\"\n",
    "    Clean the file name of all audio files in a folder.\n",
    "\n",
    "    Args:\n",
    "        folder_path (str): The path to the folder containing the audio files.\n",
    "    \n",
    "    Returns:\n",
    "        None\n",
    "    \"\"\"\n",
    "    old_file_names = os.listdir(folder_path)\n",
    "    # Select audio files only\n",
    "    audio_exts = ('.wav', '.aif', '.aiff', '.mp3')\n",
    "    old_file_names = [file_name for file_name in old_file_names if file_name.lower().endswith(audio_exts)]\n",
    "    new_file_names = [clean_file_name(file_name) for file_name in old_file_names if clean_file_name]\n",
    "\n",
    "    # Check if renaming will lead to multiple files having the same name\n",
    "    dont_rename = []\n",
    "    for old, new in zip(old_file_names, new_file_names):\n",
    "        if new_file_names.count(new) > 1:\n",
    "            dont_rename.append(old)\n",
    "    if dont_rename:\n",
    "        print(f'These files will not be renamed as they will have the same name after renaming:')\n",
    "    for file_name in dont_rename:\n",
    "        print(f'\"{file_name} -> \"{clean_file_name(file_name)}\"')\n",
    "    \n",
    "    # Rename the files\n",
    "    for old in old_file_names:\n",
    "        if old not in dont_rename:\n",
    "            new = clean_file_name(old)\n",
    "            if new != old:\n",
    "                old_path = os.path.join(folder_path, old)\n",
    "                new_path = os.path.join(folder_path, new)\n",
    "                os.rename(old_path, new_path)\n",
    "                print(f'Renamed \"{old}\" to \"{new}\"')\n",
    "\n",
    "\n",
    "def rename_files(folder_path: str) -> None:\n",
    "    \"\"\"\n",
    "    Clean the file name of all audio files in a folder and its subfolders.\n",
    "\n",
    "    Args:\n",
    "        folder_path (str): The path to the folder containing the audio files.\n",
    "    \n",
    "    Returns:\n",
    "        None\n",
    "    \"\"\"\n",
    "    for root, _, _ in os.walk(folder_path):\n",
    "        print(f'Cleaning files in \"{root}\":')\n",
    "        rename_files_in_folder(root)\n",
    "        print(\"\\n\")"
   ]
  },
  {
   "cell_type": "code",
   "execution_count": 26,
   "metadata": {},
   "outputs": [
    {
     "name": "stdout",
     "output_type": "stream",
     "text": [
      "Cleaning files in \"/Users/rr/Desktop/texting\":\n",
      "These files will not be renamed as they will have the same name after renaming:\n",
      "\"A 1 drums.mp3 -> \"drums.mp3\"\n",
      "\"A 4 drums copy.mp3 -> \"drums copy.mp3\"\n",
      "\"A 2 drums.mp3 -> \"drums.mp3\"\n",
      "\"A 1 drums copy.mp3 -> \"drums copy.mp3\"\n",
      "\n",
      "\n",
      "Cleaning files in \"/Users/rr/Desktop/texting/untitled folder\":\n",
      "These files will not be renamed as they will have the same name after renaming:\n",
      "\"A 1 drums.mp3 -> \"drums.mp3\"\n",
      "\"A 4 drums copy.mp3 -> \"drums copy.mp3\"\n",
      "\"A 2 drums.mp3 -> \"drums.mp3\"\n",
      "\"A 1 drums copy.mp3 -> \"drums copy.mp3\"\n",
      "\n",
      "\n",
      "Cleaning files in \"/Users/rr/Desktop/texting/untitled folder 2\":\n",
      "\n",
      "\n"
     ]
    }
   ],
   "source": [
    "rename_files(\"/Users/rr/Desktop/texting\")"
   ]
  },
  {
   "cell_type": "code",
   "execution_count": null,
   "metadata": {},
   "outputs": [],
   "source": []
  }
 ],
 "metadata": {
  "kernelspec": {
   "display_name": "Python 3",
   "language": "python",
   "name": "python3"
  },
  "language_info": {
   "codemirror_mode": {
    "name": "ipython",
    "version": 3
   },
   "file_extension": ".py",
   "mimetype": "text/x-python",
   "name": "python",
   "nbconvert_exporter": "python",
   "pygments_lexer": "ipython3",
   "version": "3.12.9"
  }
 },
 "nbformat": 4,
 "nbformat_minor": 2
}
