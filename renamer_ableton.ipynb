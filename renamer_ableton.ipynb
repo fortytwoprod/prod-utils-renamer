{
 "cells": [
  {
   "cell_type": "markdown",
   "metadata": {},
   "source": [
    "# Producer utilities: Ableton stems renamer\n",
    "\n",
    "[https://linktr.ee/fortytwoprod](https://linktr.ee/fortytwoprod)\n",
    "\n",
    "This program tidies up the names of Ableton stem files. It removes prefixes and numbers from file names in a folder and all its subfolders. Just set the `folder_path` and `prefix` variables to get started.\n",
    "\n",
    "1. Set the `folder_path` variable to the path of the folder containing your Ableton stem files.\n",
    "2. Set the `prefix` variable to the prefix you want to remove from the file names.\n",
    "3. Click \"Run All\"."
   ]
  },
  {
   "cell_type": "code",
   "execution_count": 16,
   "metadata": {},
   "outputs": [],
   "source": [
    "# Enter your own prefix and folder path\n",
    "prefix = \"A\"\n",
    "folder_path = \"/Users/rr/Desktop/STEMS\""
   ]
  },
  {
   "cell_type": "code",
   "execution_count": 17,
   "metadata": {},
   "outputs": [],
   "source": [
    "import os\n",
    "import re\n",
    "\n",
    "\n",
    "def clean_file_name(file_name: str, prefix: str=\"A\") -> str:\n",
    "    \"\"\"\n",
    "    Remove the prefix and numbers leading the file name of an Ableton stem export.\n",
    "    \n",
    "    Args:\n",
    "        filename (str): The original filename to be cleaned.\n",
    "    \n",
    "    Returns:\n",
    "        str: The cleaned filename.\n",
    "    \"\"\"\n",
    "    # Remove the prefix \"A \" if it exists\n",
    "    cleaned = re.sub(rf'^{prefix}\\s+', '', file_name)\n",
    "    # Remove any numbers at the start of the filename\n",
    "    cleaned = re.sub(r'^\\d+', '', cleaned)\n",
    "    # Remove any leading symbols like \"-\", \"_\" or whitespace\n",
    "    cleaned = re.sub(r'^[-_ \\s]+', '', cleaned)\n",
    "\n",
    "    return cleaned\n",
    "\n",
    "\n",
    "def rename_files_in_folder(folder_path: str, prefix: str=\"A\") -> None:\n",
    "    \"\"\"\n",
    "    Clean the file name of all audio files in a folder.\n",
    "\n",
    "    Args:\n",
    "        folder_path (str): The path to the folder containing the audio files.\n",
    "    \n",
    "    Returns:\n",
    "        None\n",
    "    \"\"\"\n",
    "    # Select audio files in folder\n",
    "    old_file_names = os.listdir(folder_path)\n",
    "    audio_exts = ('.wav', '.aif', '.aiff', '.mp3')\n",
    "    old_file_names = [file_name for file_name in old_file_names if file_name.lower().endswith(audio_exts)]\n",
    "    if not old_file_names:\n",
    "        print(\"No audio files found.\")\n",
    "        return\n",
    "    new_file_names = [clean_file_name(file_name, prefix) for file_name in old_file_names]\n",
    "\n",
    "    # Check for renaming conflicts\n",
    "    dont_rename = []\n",
    "    for old, new in zip(old_file_names, new_file_names):\n",
    "        if new_file_names.count(new) > 1:\n",
    "            dont_rename.append(old)\n",
    "    if dont_rename:\n",
    "        print(f'These files will not be renamed as their new names will conflict:')\n",
    "    for file_name in dont_rename:\n",
    "        print(f'\\t\"{file_name} -> \"{clean_file_name(file_name, prefix)}\"')\n",
    "    \n",
    "    # Rename files\n",
    "    for old in old_file_names:\n",
    "        if old not in dont_rename:\n",
    "            new = clean_file_name(old, prefix)\n",
    "            if new != old:\n",
    "                old_path = os.path.join(folder_path, old)\n",
    "                new_path = os.path.join(folder_path, new)\n",
    "                os.rename(old_path, new_path)\n",
    "                print(f'Renamed \"{old}\" to \"{new}\"')\n",
    "\n",
    "\n",
    "def rename_files(folder_path: str, prefix: str=\"A\") -> None:\n",
    "    \"\"\"\n",
    "    Clean the file name of all audio files in a folder and its subfolders.\n",
    "\n",
    "    Args:\n",
    "        folder_path (str): The path to the folder containing the audio files.\n",
    "    \n",
    "    Returns:\n",
    "        None\n",
    "    \"\"\"\n",
    "    for root, _, _ in os.walk(folder_path):\n",
    "        print(f'Cleaning files in \"{root}\":')\n",
    "        rename_files_in_folder(root, prefix)\n",
    "        print(\"\\n\")"
   ]
  },
  {
   "cell_type": "code",
   "execution_count": 18,
   "metadata": {},
   "outputs": [
    {
     "name": "stdout",
     "output_type": "stream",
     "text": [
      "Cleaning files in \"/Users/rr/Desktop/STEMS\":\n",
      "These files will not be renamed as their new names will conflict:\n",
      "\t\"A 1 drums.mp3 -> \"drums.mp3\"\n",
      "\t\"drums.mp3 -> \"drums.mp3\"\n",
      "\n",
      "\n",
      "Cleaning files in \"/Users/rr/Desktop/STEMS/untitled folder\":\n",
      "These files will not be renamed as their new names will conflict:\n",
      "\t\"A 1 drums.mp3 -> \"drums.mp3\"\n",
      "\t\"A 4 drums copy.mp3 -> \"drums copy.mp3\"\n",
      "\t\"A 2 drums.mp3 -> \"drums.mp3\"\n",
      "\t\"A 1 drums copy.mp3 -> \"drums copy.mp3\"\n",
      "\n",
      "\n",
      "Cleaning files in \"/Users/rr/Desktop/STEMS/untitled folder 2\":\n",
      "No audio files found.\n",
      "\n",
      "\n",
      "Cleaning files in \"/Users/rr/Desktop/STEMS/WET\":\n",
      "\n",
      "\n"
     ]
    }
   ],
   "source": [
    "rename_files(folder_path, prefix)"
   ]
  },
  {
   "cell_type": "code",
   "execution_count": null,
   "metadata": {},
   "outputs": [],
   "source": []
  }
 ],
 "metadata": {
  "kernelspec": {
   "display_name": "Python 3",
   "language": "python",
   "name": "python3"
  },
  "language_info": {
   "codemirror_mode": {
    "name": "ipython",
    "version": 3
   },
   "file_extension": ".py",
   "mimetype": "text/x-python",
   "name": "python",
   "nbconvert_exporter": "python",
   "pygments_lexer": "ipython3",
   "version": "3.12.9"
  }
 },
 "nbformat": 4,
 "nbformat_minor": 2
}
