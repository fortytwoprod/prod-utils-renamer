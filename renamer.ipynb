{
 "cells": [
  {
   "cell_type": "code",
   "execution_count": 1,
   "metadata": {},
   "outputs": [],
   "source": [
    "import os\n",
    "import re\n",
    "\n",
    "def clean_filename(filename):\n",
    "    # Step 1: Remove the prefix \"A \" if it exists\n",
    "    cleaned = re.sub(r'^A\\s+', '', filename)\n",
    "\n",
    "    # Step 2: Remove any numbers at the start of the filename\n",
    "    cleaned = re.sub(r'^\\d+', '', cleaned)\n",
    "\n",
    "    # Step 3: Remove any leading symbols like \"-\", \"_\" or whitespace\n",
    "    cleaned = re.sub(r'^[-_ \\s]+', '', cleaned)\n",
    "\n",
    "    return cleaned\n",
    "\n",
    "def rename_audio_files(folder_path):\n",
    "    for file_name in os.listdir(folder_path):\n",
    "        # Check if the file is a .wav or .aiff file\n",
    "        if file_name.lower().endswith(('.wav', '.aiff')):\n",
    "            new_name = clean_filename(file_name)\n",
    "            \n",
    "            # Rename the file only if the cleaned name is different\n",
    "            if new_name != file_name:\n",
    "                old_path = os.path.join(folder_path, file_name)\n",
    "                new_path = os.path.join(folder_path, new_name)\n",
    "                os.rename(old_path, new_path)\n",
    "                print(f'Renamed: \"{file_name}\" to \"{new_name}\"')\n",
    "\n",
    "\n",
    "def rename_recursive(folder_path):\n",
    "    for root, dirs, files in os.walk(folder_path):\n",
    "        # Process the current folder\n",
    "        rename_audio_files(root)"
   ]
  },
  {
   "cell_type": "code",
   "execution_count": 2,
   "metadata": {},
   "outputs": [
    {
     "name": "stdout",
     "output_type": "stream",
     "text": [
      "Renamed: \"A 9 Beep Synth.wav\" to \"Beep Synth.wav\"\n",
      "Renamed: \"A 20 Bell Synth.wav\" to \"Bell Synth.wav\"\n",
      "Renamed: \"A 8 Ride.wav\" to \"Ride.wav\"\n",
      "Renamed: \"A 2 Kick.wav\" to \"Kick.wav\"\n",
      "Renamed: \"A 17 808.wav\" to \"808.wav\"\n",
      "Renamed: \"A 4 Rim.wav\" to \"Rim.wav\"\n",
      "Renamed: \"A 10 Organ Synth.wav\" to \"Organ Synth.wav\"\n",
      "Renamed: \"A 18 Violin Sample.wav\" to \"Violin Sample.wav\"\n",
      "Renamed: \"A 19 Bell Sample.wav\" to \"Bell Sample.wav\"\n",
      "Renamed: \"A 21 Siren FX.wav\" to \"Siren FX.wav\"\n",
      "Renamed: \"A 15 Acoustic GTR.wav\" to \"Acoustic GTR.wav\"\n",
      "Renamed: \"A 16 E-GTR.wav\" to \"E-GTR.wav\"\n",
      "Renamed: \"A 11 Pad Soft.wav\" to \"Pad Soft.wav\"\n",
      "Renamed: \"A 6 Hat.wav\" to \"Hat.wav\"\n",
      "Renamed: \"A 7 Open Hat.wav\" to \"Open Hat.wav\"\n",
      "Renamed: \"A 3 Snare.wav\" to \"Snare.wav\"\n",
      "Renamed: \"A 14 Bass Fender Precision.wav\" to \"Bass Fender Precision.wav\"\n",
      "Renamed: \"A 5 Boom Bap Top Loop.wav\" to \"Boom Bap Top Loop.wav\"\n"
     ]
    }
   ],
   "source": [
    "# Specify the folder path here\n",
    "folder_path = '/Users/rr/Library/CloudStorage/Dropbox/Music projects/Songs in progress/NMX_Q12025/'\n",
    "rename_recursive(folder_path)"
   ]
  }
 ],
 "metadata": {
  "kernelspec": {
   "display_name": "Python 3",
   "language": "python",
   "name": "python3"
  },
  "language_info": {
   "codemirror_mode": {
    "name": "ipython",
    "version": 3
   },
   "file_extension": ".py",
   "mimetype": "text/x-python",
   "name": "python",
   "nbconvert_exporter": "python",
   "pygments_lexer": "ipython3",
   "version": "3.12.9"
  }
 },
 "nbformat": 4,
 "nbformat_minor": 2
}
